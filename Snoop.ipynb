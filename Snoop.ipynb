{
 "cells": [
  {
   "cell_type": "code",
   "execution_count": 1,
   "id": "e42d22d7",
   "metadata": {},
   "outputs": [],
   "source": [
    "import cv2\n",
    "import numpy as np\n",
    "import pandas as pd\n",
    "from sklearn import svm\n",
    "import tkinter as tk\n",
    "from tkinter import filedialog\n",
    "from sklearn.model_selection import train_test_split\n",
    "import joblib\n",
    "import pickle"
   ]
  },
  {
   "cell_type": "code",
   "execution_count": 2,
   "id": "1399e292",
   "metadata": {},
   "outputs": [],
   "source": [
    "# Load and pre-process image data\n",
    "def load_data():\n",
    "    # Load images and labels\n",
    "    images = []\n",
    "    labels = []\n",
    "    for i in range(1, 25):\n",
    "        image = cv2.imread(\"obj_img/obj(\" + str(i) + \").jpg\")\n",
    "        images.append(image)\n",
    "        labels.append(1)\n",
    "    for i in range(1, 11):\n",
    "        image = cv2.imread(\"obj_def_img/def_obj(\" + str(i) + \").jpg\")\n",
    "        images.append(image)\n",
    "        labels.append(0)\n",
    "    return images, labels\n"
   ]
  },
  {
   "cell_type": "code",
   "execution_count": 3,
   "id": "b05ac004",
   "metadata": {},
   "outputs": [],
   "source": [
    "# Extract features from image using OpenCV\n",
    "def extract_features(images):\n",
    "    features = []\n",
    "    for image in images:\n",
    "        gray = cv2.cvtColor(image, cv2.COLOR_BGR2GRAY)\n",
    "        features.append(gray.ravel())\n",
    "    return features"
   ]
  },
  {
   "cell_type": "code",
   "execution_count": 4,
   "id": "693f05bf",
   "metadata": {},
   "outputs": [],
   "source": [
    "def show_image(image):\n",
    "    cv2.namedWindow(\"Input Image\", cv2.WINDOW_NORMAL)\n",
    "    cv2.resizeWindow(\"Input Image\", 360, 640)\n",
    "    cv2.imshow(\"Input Image\", image)\n",
    "    cv2.waitKey(0)\n",
    "    cv2.destroyAllWindows()"
   ]
  },
  {
   "cell_type": "code",
   "execution_count": 5,
   "id": "3b232194",
   "metadata": {},
   "outputs": [],
   "source": [
    "# Predict if input image is defective or not\n",
    "def predict(clf):\n",
    "    img_path = input(\"Enter the path of the image: \")\n",
    "    image = cv2.imread(img_path)\n",
    "    gray = cv2.cvtColor(image, cv2.COLOR_BGR2GRAY)\n",
    "    feature = gray.ravel()\n",
    "    prediction = clf.predict([feature])\n",
    "    if prediction[0] == 1:\n",
    "        print(\"The object is good.\")\n",
    "    else:\n",
    "        print(\"The object is defective.\")\n",
    "    show_image(image)"
   ]
  },
  {
   "cell_type": "code",
   "execution_count": 6,
   "id": "3e95f968",
   "metadata": {},
   "outputs": [],
   "source": [
    "# Train and Save the model\n",
    "def train():\n",
    "    train = 'y'\n",
    "    while train == 'y':\n",
    "        images, labels = load_data()\n",
    "        features = extract_features(images)\n",
    "        X_train, X_test, y_train, y_test = train_test_split(features, labels, test_size=0.2, random_state=0)\n",
    "        clf = svm.SVC(kernel='linear', C=1)\n",
    "        clf.fit(X_train, y_train)\n",
    "        accuracy = clf.score(X_test, y_test)\n",
    "        print(\"Accuracy: \", accuracy)\n",
    "        save = input(\"Do you want to save the model? [y/n]: \")\n",
    "        if save == 'y':\n",
    "            print(\"Waring: This may overwrite an existing model!! Make Sure to enter a unique name.\")\n",
    "            name = input(\"Enter the name of the model: \")\n",
    "            joblib.dump(clf, \"saved_models/\" + name + \".pkl\")\n",
    "            print(\"Model saved successfully as \" + name + \".pkl\")\n",
    "            return clf\n",
    "        if save == 'n':\n",
    "            train = input(\"Would you like to train the model again? [y/n]: \")\n",
    "            if train == 'n':\n",
    "                return clf"
   ]
  },
  {
   "cell_type": "code",
   "execution_count": 7,
   "id": "a3dcbaf3",
   "metadata": {},
   "outputs": [],
   "source": [
    "def menu_opt():\n",
    "    print(\"1. Train a new model\\n2. Use an existing model\\n0. Exit\\n\")\n",
    "    opt = int(input(\"Enter your option: \"))\n",
    "    return opt"
   ]
  },
  {
   "cell_type": "code",
   "execution_count": 8,
   "id": "927ed743",
   "metadata": {},
   "outputs": [],
   "source": [
    "def main():\n",
    "    \n",
    "\n",
    "    while sel != 0:\n",
    "        if sel == 1:\n",
    "            print(\"Training model...\\n\")\n",
    "            clf = train()\n",
    "            predict(clf)\n",
    "            print(\"Training complete.\\n\")\n",
    "            sel = menu_opt()\n",
    "        if sel == 2:\n",
    "            name = input(\"Enter the name of the model: \")\n",
    "            clf = joblib.load(\"saved_models/\" + name + \".pkl\")\n",
    "            predict(clf)\n",
    "            sel = menu_opt()"
   ]
  },
  {
   "cell_type": "code",
   "execution_count": 9,
   "id": "edfd8d32",
   "metadata": {},
   "outputs": [
    {
     "name": "stdout",
     "output_type": "stream",
     "text": [
      "Training model...\n",
      "\n",
      "Accuracy:  1.0\n",
      "Do you want to save the model? [y/n]: y\n",
      "Waring: This may overwrite an existing model!! Make Sure to enter a unique name.\n",
      "Enter the name of the model: model1\n",
      "Model saved successfully as model1.pkl\n",
      "Enter the path of the image: C:\\Users\\anirb\\original-Quality-Control-Filter\\obj_def_img\\input_image.jpg\n",
      "The object is defective.\n",
      "Training complete.\n",
      "\n"
     ]
    },
    {
     "ename": "UnboundLocalError",
     "evalue": "local variable 'sel' referenced before assignment",
     "output_type": "error",
     "traceback": [
      "\u001b[1;31m---------------------------------------------------------------------------\u001b[0m",
      "\u001b[1;31mUnboundLocalError\u001b[0m                         Traceback (most recent call last)",
      "Input \u001b[1;32mIn [9]\u001b[0m, in \u001b[0;36m<cell line: 33>\u001b[1;34m()\u001b[0m\n\u001b[0;32m     34\u001b[0m app \u001b[38;5;241m=\u001b[39m MainWindow()\n\u001b[0;32m     35\u001b[0m app\u001b[38;5;241m.\u001b[39mmainloop()\n\u001b[1;32m---> 36\u001b[0m \u001b[43mmain\u001b[49m\u001b[43m(\u001b[49m\u001b[43m)\u001b[49m\n",
      "Input \u001b[1;32mIn [8]\u001b[0m, in \u001b[0;36mmain\u001b[1;34m()\u001b[0m\n\u001b[0;32m      1\u001b[0m \u001b[38;5;28;01mdef\u001b[39;00m \u001b[38;5;21mmain\u001b[39m():\n\u001b[1;32m----> 4\u001b[0m     \u001b[38;5;28;01mwhile\u001b[39;00m \u001b[43msel\u001b[49m \u001b[38;5;241m!=\u001b[39m \u001b[38;5;241m0\u001b[39m:\n\u001b[0;32m      5\u001b[0m         \u001b[38;5;28;01mif\u001b[39;00m sel \u001b[38;5;241m==\u001b[39m \u001b[38;5;241m1\u001b[39m:\n\u001b[0;32m      6\u001b[0m             \u001b[38;5;28mprint\u001b[39m(\u001b[38;5;124m\"\u001b[39m\u001b[38;5;124mTraining model...\u001b[39m\u001b[38;5;130;01m\\n\u001b[39;00m\u001b[38;5;124m\"\u001b[39m)\n",
      "\u001b[1;31mUnboundLocalError\u001b[0m: local variable 'sel' referenced before assignment"
     ]
    }
   ],
   "source": [
    "class MainWindow(tk.Tk):\n",
    "    def train(self):\n",
    "        print(\"Training model...\\n\")\n",
    "        clf = train()\n",
    "        predict(clf)\n",
    "        print(\"Training complete.\\n\")\n",
    "    \n",
    "    def predict(self):\n",
    "        name = input(\"Enter the name of the model: \")\n",
    "        clf = joblib.load(\"saved_models/\" + name + \".pkl\")\n",
    "        predict(clf)\n",
    "    \n",
    "    def __init__(self, *args, **kwargs):\n",
    "        tk.Tk.__init__(self, *args, **kwargs)\n",
    "        self.title(\"Snoop - Quality Control System\")\n",
    "        self.geometry(\"500x500\")\n",
    "\n",
    "        self.label = tk.Label(text=\"Welcome to Snoop, Your friendly neighbourhood Quality Control System!\", font=(\"Helvetica\", 16))\n",
    "        self.label.pack()\n",
    "\n",
    "        # Add the image\n",
    "        #self.image = tk.PhotoImage(file='C:\\Users\\anirb\\original-Quality-Control-Filter\\qc.jpg')\n",
    "        #self.image_label = tk.Label(image=self.image)\n",
    "        #self.image_label.pack()\n",
    "\n",
    "        self.train_button = tk.Button(text=\"Train Model\", command=self.train)\n",
    "        self.train_button.pack()\n",
    "\n",
    "        self.predict_button = tk.Button(text=\"Predict\", command=self.predict)\n",
    "        self.predict_button.pack()\n",
    "\n",
    "\n",
    "if __name__ == \"__main__\":\n",
    "    app = MainWindow()\n",
    "    app.mainloop()\n",
    "    main()\n"
   ]
  },
  {
   "cell_type": "code",
   "execution_count": null,
   "id": "79d0c48b",
   "metadata": {},
   "outputs": [],
   "source": [
    "if __name__ == \"__main__\":\n",
    "    main()"
   ]
  },
  {
   "cell_type": "code",
   "execution_count": null,
   "id": "3483f36c",
   "metadata": {},
   "outputs": [],
   "source": []
  }
 ],
 "metadata": {
  "kernelspec": {
   "display_name": "Python 3 (ipykernel)",
   "language": "python",
   "name": "python3"
  },
  "language_info": {
   "codemirror_mode": {
    "name": "ipython",
    "version": 3
   },
   "file_extension": ".py",
   "mimetype": "text/x-python",
   "name": "python",
   "nbconvert_exporter": "python",
   "pygments_lexer": "ipython3",
   "version": "3.9.12"
  },
  "vscode": {
   "interpreter": {
    "hash": "e4fc2ce67716b7907ac788f16cf8cc55bbcaf8e11294fde1f62ed583f0c1f038"
   }
  }
 },
 "nbformat": 4,
 "nbformat_minor": 5
}
