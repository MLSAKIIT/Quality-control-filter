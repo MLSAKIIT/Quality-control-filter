{
 "cells": [
  {
   "cell_type": "code",
   "execution_count": 1,
   "id": "a13cabf1",
   "metadata": {},
   "outputs": [],
   "source": [
    "import cv2\n",
    "import numpy as np\n",
    "from sklearn import svm\n",
    "from sklearn.model_selection import train_test_split"
   ]
  },
  {
   "cell_type": "code",
   "execution_count": 2,
   "id": "7d9e6763",
   "metadata": {},
   "outputs": [],
   "source": [
    "# Load and pre-process image data\n",
    "def load_data():\n",
    "    # Load images and labels\n",
    "    images = []\n",
    "    labels = []\n",
    "    for i in range(1, 25):\n",
    "        image = cv2.imread(\"obj(\" + str(i) + \").jpg\")\n",
    "        images.append(image)\n",
    "        labels.append(1)\n",
    "    for i in range(1, 11):\n",
    "        image = cv2.imread(\"def_obj(\" + str(i) + \").jpg\")\n",
    "        images.append(image)\n",
    "        labels.append(0)\n",
    "    return images, labels"
   ]
  },
  {
   "cell_type": "code",
   "execution_count": 3,
   "id": "1af68824",
   "metadata": {},
   "outputs": [],
   "source": [
    "# Extract features from image using OpenCV\n",
    "def extract_features(images):\n",
    "    features = []\n",
    "    for image in images:\n",
    "        gray = cv2.cvtColor(image, cv2.COLOR_BGR2GRAY)\n",
    "        features.append(gray.ravel())\n",
    "    return features"
   ]
  },
  {
   "cell_type": "code",
   "execution_count": 4,
   "id": "68231f9c",
   "metadata": {},
   "outputs": [],
   "source": [
    "# Train and test SVM model\n",
    "def train_test_model(features, labels):\n",
    "    X_train, X_test, y_train, y_test = train_test_split(features, labels, test_size=0.2, random_state=42)\n",
    "    clf = svm.SVC(kernel='linear', C=1)\n",
    "    clf.fit(X_train, y_train)\n",
    "    accuracy = clf.score(X_test, y_test)\n",
    "    print(\"Accuracy: \", accuracy)"
   ]
  },
  {
   "cell_type": "code",
   "execution_count": 5,
   "id": "815830c3",
   "metadata": {},
   "outputs": [],
   "source": [
    "# Predict if input image is defective or not\n",
    "def predict(image, clf):\n",
    "    gray = cv2.cvtColor(image, cv2.COLOR_BGR2GRAY)\n",
    "    feature = gray.ravel()\n",
    "    prediction = clf.predict([feature])\n",
    "    if prediction[0] == 1:\n",
    "        print(\"The object is good.\")\n",
    "    else:\n",
    "        print(\"The object is defective.\")\n"
   ]
  },
  {
   "cell_type": "code",
   "execution_count": 6,
   "id": "a217bf6c",
   "metadata": {},
   "outputs": [
    {
     "name": "stdout",
     "output_type": "stream",
     "text": [
      "Accuracy:  1.0\n"
     ]
    }
   ],
   "source": [
    "# Main function\n",
    "if __name__ == '__main__':\n",
    "    images, labels = load_data()\n",
    "    features = extract_features(images)\n",
    "    X_train, X_test, y_train, y_test = train_test_split(features, labels, test_size=0.2, random_state=0)\n",
    "    clf = svm.SVC(kernel='linear', C=1)\n",
    "    clf.fit(X_train, y_train)\n",
    "    accuracy = clf.score(X_test, y_test)\n",
    "    print(\"Accuracy: \", accuracy)\n",
    "    # Take input image - Ask for input image path\n",
    "    #img_path = input(\"Enter the path of the image: \")\n",
    "    #input_image = cv2.imread(img_path)\n",
    "    #predict(input_image, clf)\n",
    "    #cv2.namedWindow(\"Input Image\", cv2.WINDOW_NORMAL)\n",
    "    #cv2.resizeWindow(\"Input Image\", 360, 640)\n",
    "    #cv2.imshow(\"Input Image\", input_image)\n",
    "    #cv2.waitKey(0)\n",
    "    #cv2.destroyAllWindows()"
   ]
  },
  {
   "cell_type": "code",
   "execution_count": null,
   "id": "8013567f",
   "metadata": {},
   "outputs": [],
   "source": [
    "import tkinter as tk\n",
    "from tkinter import filedialog\n",
    "import cv2\n",
    "\n",
    "def load_image():\n",
    "    filename = filedialog.askopenfilename(title = \"Select an image\", filetypes = ((\"jpeg files\", \"*.jpg\"), (\"all files\", \"*.*\")))\n",
    "    image = cv2.imread(filename)\n",
    "    return image\n",
    "\n",
    "def predict_defect(image, clf):\n",
    "    gray = cv2.cvtColor(image, cv2.COLOR_BGR2GRAY)\n",
    "    feature = gray.ravel()\n",
    "    prediction = clf.predict([feature])\n",
    "    if prediction[0] == 1:\n",
    "        result_label.config(text = \"The object is good.\")\n",
    "    else:\n",
    "        result_label.config(text = \"The object is defective.\")\n",
    "\n",
    "root = tk.Tk()\n",
    "root.title(\"Quality Control Filter\")\n",
    "\n",
    "load_button = tk.Button(root, text = \"Load Image\", command = lambda: predict_defect(load_image(), clf))\n",
    "load_button.pack()\n",
    "\n",
    "result_label = tk.Label(root, text = \"\")\n",
    "result_label.pack()\n",
    "\n",
    "root.mainloop()\n"
   ]
  }
 ],
 "metadata": {
  "kernelspec": {
   "display_name": "Python 3 (ipykernel)",
   "language": "python",
   "name": "python3"
  },
  "language_info": {
   "codemirror_mode": {
    "name": "ipython",
    "version": 3
   },
   "file_extension": ".py",
   "mimetype": "text/x-python",
   "name": "python",
   "nbconvert_exporter": "python",
   "pygments_lexer": "ipython3",
   "version": "3.9.12"
  }
 },
 "nbformat": 4,
 "nbformat_minor": 5
}
